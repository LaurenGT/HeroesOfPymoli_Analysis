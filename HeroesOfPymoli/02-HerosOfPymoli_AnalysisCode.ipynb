{
 "cells": [
  {
   "cell_type": "markdown",
   "metadata": {},
   "source": [
    "# HeroesOfPymoli In-game Purchase Analysis\n",
    "Below is an analysis of in-game purchases by players of HeroesOfPymoli. You will find a breakdown of players and purchases by both gender and age along with a look at the top players and items available for purchase. Included at the bottom are three trends observed through the analysis provided."
   ]
  },
  {
   "cell_type": "code",
   "execution_count": 1,
   "metadata": {},
   "outputs": [
    {
     "data": {
      "text/html": [
       "<div>\n",
       "<style scoped>\n",
       "    .dataframe tbody tr th:only-of-type {\n",
       "        vertical-align: middle;\n",
       "    }\n",
       "\n",
       "    .dataframe tbody tr th {\n",
       "        vertical-align: top;\n",
       "    }\n",
       "\n",
       "    .dataframe thead th {\n",
       "        text-align: right;\n",
       "    }\n",
       "</style>\n",
       "<table border=\"1\" class=\"dataframe\">\n",
       "  <thead>\n",
       "    <tr style=\"text-align: right;\">\n",
       "      <th></th>\n",
       "      <th>Purchase ID</th>\n",
       "      <th>SN</th>\n",
       "      <th>Age</th>\n",
       "      <th>Gender</th>\n",
       "      <th>Item ID</th>\n",
       "      <th>Item Name</th>\n",
       "      <th>Price</th>\n",
       "    </tr>\n",
       "  </thead>\n",
       "  <tbody>\n",
       "    <tr>\n",
       "      <th>0</th>\n",
       "      <td>0</td>\n",
       "      <td>Lisim78</td>\n",
       "      <td>20</td>\n",
       "      <td>Male</td>\n",
       "      <td>108</td>\n",
       "      <td>Extraction, Quickblade Of Trembling Hands</td>\n",
       "      <td>3.53</td>\n",
       "    </tr>\n",
       "    <tr>\n",
       "      <th>1</th>\n",
       "      <td>1</td>\n",
       "      <td>Lisovynya38</td>\n",
       "      <td>40</td>\n",
       "      <td>Male</td>\n",
       "      <td>143</td>\n",
       "      <td>Frenzied Scimitar</td>\n",
       "      <td>1.56</td>\n",
       "    </tr>\n",
       "    <tr>\n",
       "      <th>2</th>\n",
       "      <td>2</td>\n",
       "      <td>Ithergue48</td>\n",
       "      <td>24</td>\n",
       "      <td>Male</td>\n",
       "      <td>92</td>\n",
       "      <td>Final Critic</td>\n",
       "      <td>4.88</td>\n",
       "    </tr>\n",
       "    <tr>\n",
       "      <th>3</th>\n",
       "      <td>3</td>\n",
       "      <td>Chamassasya86</td>\n",
       "      <td>24</td>\n",
       "      <td>Male</td>\n",
       "      <td>100</td>\n",
       "      <td>Blindscythe</td>\n",
       "      <td>3.27</td>\n",
       "    </tr>\n",
       "    <tr>\n",
       "      <th>4</th>\n",
       "      <td>4</td>\n",
       "      <td>Iskosia90</td>\n",
       "      <td>23</td>\n",
       "      <td>Male</td>\n",
       "      <td>131</td>\n",
       "      <td>Fury</td>\n",
       "      <td>1.44</td>\n",
       "    </tr>\n",
       "  </tbody>\n",
       "</table>\n",
       "</div>"
      ],
      "text/plain": [
       "   Purchase ID             SN  Age Gender  Item ID  \\\n",
       "0            0        Lisim78   20   Male      108   \n",
       "1            1    Lisovynya38   40   Male      143   \n",
       "2            2     Ithergue48   24   Male       92   \n",
       "3            3  Chamassasya86   24   Male      100   \n",
       "4            4      Iskosia90   23   Male      131   \n",
       "\n",
       "                                   Item Name  Price  \n",
       "0  Extraction, Quickblade Of Trembling Hands   3.53  \n",
       "1                          Frenzied Scimitar   1.56  \n",
       "2                               Final Critic   4.88  \n",
       "3                                Blindscythe   3.27  \n",
       "4                                       Fury   1.44  "
      ]
     },
     "execution_count": 1,
     "metadata": {},
     "output_type": "execute_result"
    }
   ],
   "source": [
    "# Dependencies and Setup\n",
    "import pandas as pd\n",
    "\n",
    "# File to Load (Remember to Change These)\n",
    "file_to_load = \"Resources/purchase_data.csv\"\n",
    "\n",
    "# Read Purchasing File and store into Pandas data frame, display sample rows to see what data is available\n",
    "purchase_data = pd.read_csv(file_to_load)\n",
    "purchase_data.head(5)"
   ]
  },
  {
   "cell_type": "markdown",
   "metadata": {},
   "source": [
    "## Player Count"
   ]
  },
  {
   "cell_type": "markdown",
   "metadata": {},
   "source": [
    "* Identify and display the total number of unique players"
   ]
  },
  {
   "cell_type": "code",
   "execution_count": 2,
   "metadata": {},
   "outputs": [
    {
     "data": {
      "text/html": [
       "<div>\n",
       "<style scoped>\n",
       "    .dataframe tbody tr th:only-of-type {\n",
       "        vertical-align: middle;\n",
       "    }\n",
       "\n",
       "    .dataframe tbody tr th {\n",
       "        vertical-align: top;\n",
       "    }\n",
       "\n",
       "    .dataframe thead th {\n",
       "        text-align: right;\n",
       "    }\n",
       "</style>\n",
       "<table border=\"1\" class=\"dataframe\">\n",
       "  <thead>\n",
       "    <tr style=\"text-align: right;\">\n",
       "      <th></th>\n",
       "      <th>Total Players</th>\n",
       "    </tr>\n",
       "  </thead>\n",
       "  <tbody>\n",
       "    <tr>\n",
       "      <th>0</th>\n",
       "      <td>576</td>\n",
       "    </tr>\n",
       "  </tbody>\n",
       "</table>\n",
       "</div>"
      ],
      "text/plain": [
       "   Total Players\n",
       "0            576"
      ]
     },
     "execution_count": 2,
     "metadata": {},
     "output_type": "execute_result"
    }
   ],
   "source": [
    "unique_player_count = len(purchase_data[\"SN\"].unique())\n",
    "\n",
    "total_players_df = pd.DataFrame({\"Total Players\":[unique_player_count]})\n",
    "total_players_df"
   ]
  },
  {
   "cell_type": "markdown",
   "metadata": {},
   "source": [
    "## Purchasing Analysis (Total)"
   ]
  },
  {
   "cell_type": "markdown",
   "metadata": {},
   "source": [
    "* Calculate the number of unique items, total number of purchases, average purchase price and total revenue.\n",
    "    - calculate necessary values\n",
    "    - create and display summary dataframe, formatted for readability\n",
    "   "
   ]
  },
  {
   "cell_type": "code",
   "execution_count": 3,
   "metadata": {
    "scrolled": true
   },
   "outputs": [
    {
     "data": {
      "text/html": [
       "<div>\n",
       "<style scoped>\n",
       "    .dataframe tbody tr th:only-of-type {\n",
       "        vertical-align: middle;\n",
       "    }\n",
       "\n",
       "    .dataframe tbody tr th {\n",
       "        vertical-align: top;\n",
       "    }\n",
       "\n",
       "    .dataframe thead th {\n",
       "        text-align: right;\n",
       "    }\n",
       "</style>\n",
       "<table border=\"1\" class=\"dataframe\">\n",
       "  <thead>\n",
       "    <tr style=\"text-align: right;\">\n",
       "      <th></th>\n",
       "      <th>Number of Unique Items</th>\n",
       "      <th>Total Number of Purchases</th>\n",
       "      <th>Average Purchase Price</th>\n",
       "      <th>Total Revenue</th>\n",
       "    </tr>\n",
       "  </thead>\n",
       "  <tbody>\n",
       "    <tr>\n",
       "      <th>0</th>\n",
       "      <td>179</td>\n",
       "      <td>780</td>\n",
       "      <td>$3.05</td>\n",
       "      <td>$2,379.77</td>\n",
       "    </tr>\n",
       "  </tbody>\n",
       "</table>\n",
       "</div>"
      ],
      "text/plain": [
       "   Number of Unique Items  Total Number of Purchases Average Purchase Price  \\\n",
       "0                     179                        780                  $3.05   \n",
       "\n",
       "  Total Revenue  \n",
       "0     $2,379.77  "
      ]
     },
     "execution_count": 3,
     "metadata": {},
     "output_type": "execute_result"
    }
   ],
   "source": [
    "#perform calculations on dataframe\n",
    "unique_items_count = len(purchase_data[\"Item ID\"].unique())\n",
    "total_purchases = len(purchase_data[\"Item ID\"])\n",
    "ave_purchase_price = purchase_data[\"Price\"].mean()\n",
    "total_revenue = purchase_data[\"Price\"].sum()\n",
    "\n",
    "#create, display and format datafram\n",
    "purchasing_analysis_df = pd.DataFrame({\"Number of Unique Items\":[unique_items_count],\n",
    "                                    \"Total Number of Purchases\":[total_purchases],\n",
    "                                   \"Average Purchase Price\":[ave_purchase_price],\n",
    "                                   \"Total Revenue\":[total_revenue]}).round(decimals=2)\n",
    "purchasing_analysis_df[\"Average Purchase Price\"] = purchasing_analysis_df[\"Average Purchase Price\"].astype(float).map(\"${:,.2f}\".format)\n",
    "purchasing_analysis_df[\"Total Revenue\"] = purchasing_analysis_df[\"Total Revenue\"].astype(float).map(\"${:,.2f}\".format)\n",
    "purchasing_analysis_df"
   ]
  },
  {
   "cell_type": "markdown",
   "metadata": {},
   "source": [
    "## Gender Demographics"
   ]
  },
  {
   "cell_type": "markdown",
   "metadata": {},
   "source": [
    "* Calculate and dispay the percentage and unique count of male, female and other/non-disclosed players\n",
    "    - create new dataframe from original loaded file, limited to unique users\n",
    "    - count users by gender and calculate percentage using unique player count found in \"Player Count\" section\n",
    "    - store this calculated information in a new dataframe, formatted for readability"
   ]
  },
  {
   "cell_type": "code",
   "execution_count": 4,
   "metadata": {
    "scrolled": true
   },
   "outputs": [
    {
     "data": {
      "text/html": [
       "<div>\n",
       "<style scoped>\n",
       "    .dataframe tbody tr th:only-of-type {\n",
       "        vertical-align: middle;\n",
       "    }\n",
       "\n",
       "    .dataframe tbody tr th {\n",
       "        vertical-align: top;\n",
       "    }\n",
       "\n",
       "    .dataframe thead th {\n",
       "        text-align: right;\n",
       "    }\n",
       "</style>\n",
       "<table border=\"1\" class=\"dataframe\">\n",
       "  <thead>\n",
       "    <tr style=\"text-align: right;\">\n",
       "      <th></th>\n",
       "      <th>Total Count</th>\n",
       "      <th>Percentage of Players</th>\n",
       "    </tr>\n",
       "  </thead>\n",
       "  <tbody>\n",
       "    <tr>\n",
       "      <th>Male</th>\n",
       "      <td>484</td>\n",
       "      <td>84.03%</td>\n",
       "    </tr>\n",
       "    <tr>\n",
       "      <th>Female</th>\n",
       "      <td>81</td>\n",
       "      <td>14.06%</td>\n",
       "    </tr>\n",
       "    <tr>\n",
       "      <th>Other / Non-Disclosed</th>\n",
       "      <td>11</td>\n",
       "      <td>1.91%</td>\n",
       "    </tr>\n",
       "  </tbody>\n",
       "</table>\n",
       "</div>"
      ],
      "text/plain": [
       "                       Total Count Percentage of Players\n",
       "Male                           484                84.03%\n",
       "Female                          81                14.06%\n",
       "Other / Non-Disclosed           11                 1.91%"
      ]
     },
     "execution_count": 4,
     "metadata": {},
     "output_type": "execute_result"
    }
   ],
   "source": [
    "#create unique player dataframe\n",
    "reduced_purchase_data = purchase_data[[\"SN\",\"Gender\",\"Age\"]]\n",
    "reduced_purchase_data = reduced_purchase_data.drop_duplicates()\n",
    "\n",
    "#count users and calculate percent\n",
    "gender_count = reduced_purchase_data[\"Gender\"].value_counts()\n",
    "gender_percent = (gender_count/unique_player_count)*100\n",
    "\n",
    "#create, display and format summary dataframe\n",
    "gender_demographics = pd.DataFrame({\"Total Count\":gender_count,\n",
    "                                   \"Percentage of Players\":gender_percent})\n",
    "gender_demographics[\"Percentage of Players\"] = gender_demographics[\"Percentage of Players\"].astype(float).map(\"{:.2f}%\".format)\n",
    "gender_demographics"
   ]
  },
  {
   "cell_type": "markdown",
   "metadata": {},
   "source": [
    "## Purchasing Analysis (Gender)"
   ]
  },
  {
   "cell_type": "markdown",
   "metadata": {},
   "source": [
    "* By gender, calculate and display purchase count, average purchase price, total purchase price and average purchase total per person\n",
    "    - create new dataframe from original loaded file (this is not limited to unique users as it is looking at all purchases)\n",
    "    - calculate and store necessary variables\n",
    "    - create and display new summary dataframe, formatted for readability"
   ]
  },
  {
   "cell_type": "code",
   "execution_count": 5,
   "metadata": {},
   "outputs": [
    {
     "data": {
      "text/html": [
       "<div>\n",
       "<style scoped>\n",
       "    .dataframe tbody tr th:only-of-type {\n",
       "        vertical-align: middle;\n",
       "    }\n",
       "\n",
       "    .dataframe tbody tr th {\n",
       "        vertical-align: top;\n",
       "    }\n",
       "\n",
       "    .dataframe thead th {\n",
       "        text-align: right;\n",
       "    }\n",
       "</style>\n",
       "<table border=\"1\" class=\"dataframe\">\n",
       "  <thead>\n",
       "    <tr style=\"text-align: right;\">\n",
       "      <th></th>\n",
       "      <th>Purchase Count</th>\n",
       "      <th>Average Purchase Price</th>\n",
       "      <th>Total Purchase Value</th>\n",
       "      <th>Avg Total Purchase Per Person</th>\n",
       "    </tr>\n",
       "    <tr>\n",
       "      <th>Gender</th>\n",
       "      <th></th>\n",
       "      <th></th>\n",
       "      <th></th>\n",
       "      <th></th>\n",
       "    </tr>\n",
       "  </thead>\n",
       "  <tbody>\n",
       "    <tr>\n",
       "      <th>Female</th>\n",
       "      <td>113</td>\n",
       "      <td>$3.20</td>\n",
       "      <td>$361.94</td>\n",
       "      <td>$4.47</td>\n",
       "    </tr>\n",
       "    <tr>\n",
       "      <th>Male</th>\n",
       "      <td>652</td>\n",
       "      <td>$3.02</td>\n",
       "      <td>$1,967.64</td>\n",
       "      <td>$4.07</td>\n",
       "    </tr>\n",
       "    <tr>\n",
       "      <th>Other / Non-Disclosed</th>\n",
       "      <td>15</td>\n",
       "      <td>$3.35</td>\n",
       "      <td>$50.19</td>\n",
       "      <td>$4.56</td>\n",
       "    </tr>\n",
       "  </tbody>\n",
       "</table>\n",
       "</div>"
      ],
      "text/plain": [
       "                       Purchase Count Average Purchase Price  \\\n",
       "Gender                                                         \n",
       "Female                            113                  $3.20   \n",
       "Male                              652                  $3.02   \n",
       "Other / Non-Disclosed              15                  $3.35   \n",
       "\n",
       "                      Total Purchase Value Avg Total Purchase Per Person  \n",
       "Gender                                                                    \n",
       "Female                             $361.94                         $4.47  \n",
       "Male                             $1,967.64                         $4.07  \n",
       "Other / Non-Disclosed               $50.19                         $4.56  "
      ]
     },
     "execution_count": 5,
     "metadata": {},
     "output_type": "execute_result"
    }
   ],
   "source": [
    "#create new dataframe\n",
    "purchasing_analysis = purchase_data[[\"Purchase ID\", \"Price\", \"Gender\", \"SN\"]]\n",
    "\n",
    "#count purchases and calculate values/costs\n",
    "purchase_count = purchasing_analysis.groupby(\"Gender\").count()[\"SN\"]\n",
    "total_purchase_value = purchasing_analysis.groupby(\"Gender\").sum()[\"Price\"]\n",
    "ave_purchase_cost = purchasing_analysis.groupby(\"Gender\").mean()[\"Price\"]\n",
    "ave_purchase_per_person = total_purchase_value / gender_demographics[\"Total Count\"]\n",
    "\n",
    "#create, display and format summary dataframe\n",
    "purchasing_analysis_summary_df = pd.DataFrame({\"Purchase Count\":purchase_count,\n",
    "                                              \"Average Purchase Price\":ave_purchase_cost,\n",
    "                                              \"Total Purchase Value\":total_purchase_value,\n",
    "                                              \"Avg Total Purchase Per Person\":ave_purchase_per_person})\n",
    "\n",
    "purchasing_analysis_summary_df[\"Average Purchase Price\"] = purchasing_analysis_summary_df[\"Average Purchase Price\"].astype(float).map(\"${:.2f}\".format)\n",
    "purchasing_analysis_summary_df[\"Total Purchase Value\"] = purchasing_analysis_summary_df[\"Total Purchase Value\"].astype(float).map(\"${:,.2f}\".format)\n",
    "purchasing_analysis_summary_df[\"Avg Total Purchase Per Person\"] = purchasing_analysis_summary_df[\"Avg Total Purchase Per Person\"].astype(float).map(\"${:.2f}\".format)\n",
    "\n",
    "purchasing_analysis_summary_df"
   ]
  },
  {
   "cell_type": "markdown",
   "metadata": {},
   "source": [
    "## Age Demographics"
   ]
  },
  {
   "cell_type": "markdown",
   "metadata": {},
   "source": [
    "* Summarize the unique player counts by age ranges\n",
    "    - create new dataframe holding screenname and age from unique players dataframe create in the Gender Demographics section\n",
    "    - create bins for age ranges and assign names for the ranges\n",
    "    - apply these bins to the dataframe\n",
    "    - group by the age ranges and provide a count of unique players that fall in that range\n",
    "    - display dataframe, formatted for readability"
   ]
  },
  {
   "cell_type": "code",
   "execution_count": 6,
   "metadata": {},
   "outputs": [
    {
     "data": {
      "text/html": [
       "<div>\n",
       "<style scoped>\n",
       "    .dataframe tbody tr th:only-of-type {\n",
       "        vertical-align: middle;\n",
       "    }\n",
       "\n",
       "    .dataframe tbody tr th {\n",
       "        vertical-align: top;\n",
       "    }\n",
       "\n",
       "    .dataframe thead th {\n",
       "        text-align: right;\n",
       "    }\n",
       "</style>\n",
       "<table border=\"1\" class=\"dataframe\">\n",
       "  <thead>\n",
       "    <tr style=\"text-align: right;\">\n",
       "      <th></th>\n",
       "      <th>Unique Player Count</th>\n",
       "      <th>Percentage of Players</th>\n",
       "    </tr>\n",
       "    <tr>\n",
       "      <th>Age Range</th>\n",
       "      <th></th>\n",
       "      <th></th>\n",
       "    </tr>\n",
       "  </thead>\n",
       "  <tbody>\n",
       "    <tr>\n",
       "      <th>&lt;10</th>\n",
       "      <td>17</td>\n",
       "      <td>2.95%</td>\n",
       "    </tr>\n",
       "    <tr>\n",
       "      <th>10-14</th>\n",
       "      <td>22</td>\n",
       "      <td>3.82%</td>\n",
       "    </tr>\n",
       "    <tr>\n",
       "      <th>15-19</th>\n",
       "      <td>107</td>\n",
       "      <td>18.58%</td>\n",
       "    </tr>\n",
       "    <tr>\n",
       "      <th>20-24</th>\n",
       "      <td>258</td>\n",
       "      <td>44.79%</td>\n",
       "    </tr>\n",
       "    <tr>\n",
       "      <th>25-29</th>\n",
       "      <td>77</td>\n",
       "      <td>13.37%</td>\n",
       "    </tr>\n",
       "    <tr>\n",
       "      <th>30-34</th>\n",
       "      <td>52</td>\n",
       "      <td>9.03%</td>\n",
       "    </tr>\n",
       "    <tr>\n",
       "      <th>35-39</th>\n",
       "      <td>31</td>\n",
       "      <td>5.38%</td>\n",
       "    </tr>\n",
       "    <tr>\n",
       "      <th>40+</th>\n",
       "      <td>12</td>\n",
       "      <td>2.08%</td>\n",
       "    </tr>\n",
       "  </tbody>\n",
       "</table>\n",
       "</div>"
      ],
      "text/plain": [
       "           Unique Player Count Percentage of Players\n",
       "Age Range                                           \n",
       "<10                         17                 2.95%\n",
       "10-14                       22                 3.82%\n",
       "15-19                      107                18.58%\n",
       "20-24                      258                44.79%\n",
       "25-29                       77                13.37%\n",
       "30-34                       52                 9.03%\n",
       "35-39                       31                 5.38%\n",
       "40+                         12                 2.08%"
      ]
     },
     "execution_count": 6,
     "metadata": {},
     "output_type": "execute_result"
    }
   ],
   "source": [
    "#create new dataframe\n",
    "age_demographics_df = reduced_purchase_data[[\"SN\", \"Age\"]]\n",
    "#age_demographics_df.head()\n",
    "\n",
    "#create, label and apply bins\n",
    "bins = [0, 9.9, 14.9, 19.9, 24.9, 29.9, 34.9, 39.9, 50]\n",
    "bin_names = [\"<10\", \"10-14\", \"15-19\", \"20-24\", \"25-29\", \"30-34\", \"35-39\", \"40+\"]\n",
    "age_demographics_df[\"Age Range\"] = pd.cut(age_demographics_df[\"Age\"], bins, labels=bin_names, include_lowest=True)\n",
    "#age_demographics_df.head()\n",
    "\n",
    "#group dataframe, format and display\n",
    "grouped_ages = age_demographics_df.groupby(\"Age Range\").count()[\"SN\"]\n",
    "age_percent = (grouped_ages / unique_player_count)*100\n",
    "grouped_ages_df = pd.DataFrame({\"Unique Player Count\":grouped_ages,\n",
    "                               \"Percentage of Players\":age_percent})\n",
    "grouped_ages_df[\"Percentage of Players\"] = grouped_ages_df[\"Percentage of Players\"].astype(float).map(\"{:.2f}%\".format)\n",
    "grouped_ages_df"
   ]
  },
  {
   "cell_type": "markdown",
   "metadata": {},
   "source": [
    "## Purchasing Analysis (Age)"
   ]
  },
  {
   "cell_type": "markdown",
   "metadata": {},
   "source": [
    "* Summarize purchases by age range based on full original loaded data set\n",
    "    - create a copy of the original loaded dataframe for data integrity\n",
    "    - apply previously created age ranges to the dataframe\n",
    "    - perform calculations on the dataframe to gather (by age group) purchase count, average purchase price, total purchase value and average purchase total per person\n",
    "    - create and display summary dataframe, formatted for readability"
   ]
  },
  {
   "cell_type": "code",
   "execution_count": 7,
   "metadata": {
    "scrolled": false
   },
   "outputs": [
    {
     "data": {
      "text/html": [
       "<div>\n",
       "<style scoped>\n",
       "    .dataframe tbody tr th:only-of-type {\n",
       "        vertical-align: middle;\n",
       "    }\n",
       "\n",
       "    .dataframe tbody tr th {\n",
       "        vertical-align: top;\n",
       "    }\n",
       "\n",
       "    .dataframe thead th {\n",
       "        text-align: right;\n",
       "    }\n",
       "</style>\n",
       "<table border=\"1\" class=\"dataframe\">\n",
       "  <thead>\n",
       "    <tr style=\"text-align: right;\">\n",
       "      <th></th>\n",
       "      <th>Puchase Count</th>\n",
       "      <th>Average Purchase Price</th>\n",
       "      <th>Total Purchase Value</th>\n",
       "      <th>Avg Total Purchase per Person</th>\n",
       "    </tr>\n",
       "    <tr>\n",
       "      <th>Age Range</th>\n",
       "      <th></th>\n",
       "      <th></th>\n",
       "      <th></th>\n",
       "      <th></th>\n",
       "    </tr>\n",
       "  </thead>\n",
       "  <tbody>\n",
       "    <tr>\n",
       "      <th>&lt;10</th>\n",
       "      <td>23</td>\n",
       "      <td>$3.35</td>\n",
       "      <td>$77.13</td>\n",
       "      <td>$4.54</td>\n",
       "    </tr>\n",
       "    <tr>\n",
       "      <th>10-14</th>\n",
       "      <td>28</td>\n",
       "      <td>$2.96</td>\n",
       "      <td>$82.78</td>\n",
       "      <td>$3.76</td>\n",
       "    </tr>\n",
       "    <tr>\n",
       "      <th>15-19</th>\n",
       "      <td>136</td>\n",
       "      <td>$3.04</td>\n",
       "      <td>$412.89</td>\n",
       "      <td>$3.86</td>\n",
       "    </tr>\n",
       "    <tr>\n",
       "      <th>20-24</th>\n",
       "      <td>365</td>\n",
       "      <td>$3.05</td>\n",
       "      <td>$1,114.06</td>\n",
       "      <td>$4.32</td>\n",
       "    </tr>\n",
       "    <tr>\n",
       "      <th>25-29</th>\n",
       "      <td>101</td>\n",
       "      <td>$2.90</td>\n",
       "      <td>$293.00</td>\n",
       "      <td>$3.81</td>\n",
       "    </tr>\n",
       "    <tr>\n",
       "      <th>30-34</th>\n",
       "      <td>73</td>\n",
       "      <td>$2.93</td>\n",
       "      <td>$214.00</td>\n",
       "      <td>$4.12</td>\n",
       "    </tr>\n",
       "    <tr>\n",
       "      <th>35-39</th>\n",
       "      <td>41</td>\n",
       "      <td>$3.60</td>\n",
       "      <td>$147.67</td>\n",
       "      <td>$4.76</td>\n",
       "    </tr>\n",
       "    <tr>\n",
       "      <th>40+</th>\n",
       "      <td>13</td>\n",
       "      <td>$2.94</td>\n",
       "      <td>$38.24</td>\n",
       "      <td>$3.19</td>\n",
       "    </tr>\n",
       "  </tbody>\n",
       "</table>\n",
       "</div>"
      ],
      "text/plain": [
       "           Puchase Count Average Purchase Price Total Purchase Value  \\\n",
       "Age Range                                                              \n",
       "<10                   23                  $3.35               $77.13   \n",
       "10-14                 28                  $2.96               $82.78   \n",
       "15-19                136                  $3.04              $412.89   \n",
       "20-24                365                  $3.05            $1,114.06   \n",
       "25-29                101                  $2.90              $293.00   \n",
       "30-34                 73                  $2.93              $214.00   \n",
       "35-39                 41                  $3.60              $147.67   \n",
       "40+                   13                  $2.94               $38.24   \n",
       "\n",
       "          Avg Total Purchase per Person  \n",
       "Age Range                                \n",
       "<10                               $4.54  \n",
       "10-14                             $3.76  \n",
       "15-19                             $3.86  \n",
       "20-24                             $4.32  \n",
       "25-29                             $3.81  \n",
       "30-34                             $4.12  \n",
       "35-39                             $4.76  \n",
       "40+                               $3.19  "
      ]
     },
     "execution_count": 7,
     "metadata": {},
     "output_type": "execute_result"
    }
   ],
   "source": [
    "# create new dataframe and apply age ranges\n",
    "binned_purchase_data = purchase_data\n",
    "binned_purchase_data[\"Age Range\"] = pd.cut(binned_purchase_data[\"Age\"], bins, labels=bin_names, include_lowest=True)\n",
    "\n",
    "# perform and store calculations\n",
    "binned_purchase_count = binned_purchase_data.groupby(\"Age Range\").count()[\"Purchase ID\"]\n",
    "binned_total_purchase_value = binned_purchase_data.groupby(\"Age Range\").sum()[\"Price\"]\n",
    "binned_ave_price = binned_total_purchase_value / binned_purchase_count\n",
    "binned_avg_purchase_per_person = binned_total_purchase_value / grouped_ages\n",
    "\n",
    "#create, display and format summary dataframe\n",
    "binned_purchasing_analysis_df = pd.DataFrame({\"Puchase Count\":binned_purchase_count,\n",
    "                                             \"Average Purchase Price\":binned_ave_price,\n",
    "                                             \"Total Purchase Value\":binned_total_purchase_value,\n",
    "                                             \"Avg Total Purchase per Person\": binned_avg_purchase_per_person})\n",
    "binned_purchasing_analysis_df[\"Average Purchase Price\"] = binned_purchasing_analysis_df[\"Average Purchase Price\"].astype(float).map(\"${:,.2f}\".format)\n",
    "binned_purchasing_analysis_df[\"Total Purchase Value\"] = binned_purchasing_analysis_df[\"Total Purchase Value\"].astype(float).map(\"${:,.2f}\".format)\n",
    "binned_purchasing_analysis_df[\"Avg Total Purchase per Person\"] = binned_purchasing_analysis_df[\"Avg Total Purchase per Person\"].astype(float).map(\"${:,.2f}\".format)\n",
    "\n",
    "binned_purchasing_analysis_df"
   ]
  },
  {
   "cell_type": "markdown",
   "metadata": {},
   "source": [
    "## Top Spenders"
   ]
  },
  {
   "cell_type": "markdown",
   "metadata": {},
   "source": [
    "* Identify the top 5 spenders in the game by total purchase value\n",
    "    - calculate total spending, amount of purchases and the average spending by unique screen name\n",
    "    - create summary dataframe, sort descending by total purchase value and format for readability\n",
    "    - display top 5 rows of summary dataframe"
   ]
  },
  {
   "cell_type": "code",
   "execution_count": 8,
   "metadata": {},
   "outputs": [
    {
     "data": {
      "text/html": [
       "<div>\n",
       "<style scoped>\n",
       "    .dataframe tbody tr th:only-of-type {\n",
       "        vertical-align: middle;\n",
       "    }\n",
       "\n",
       "    .dataframe tbody tr th {\n",
       "        vertical-align: top;\n",
       "    }\n",
       "\n",
       "    .dataframe thead th {\n",
       "        text-align: right;\n",
       "    }\n",
       "</style>\n",
       "<table border=\"1\" class=\"dataframe\">\n",
       "  <thead>\n",
       "    <tr style=\"text-align: right;\">\n",
       "      <th></th>\n",
       "      <th>Purchase Count</th>\n",
       "      <th>Average Purchase Price</th>\n",
       "      <th>Total Purchase Value</th>\n",
       "    </tr>\n",
       "    <tr>\n",
       "      <th>SN</th>\n",
       "      <th></th>\n",
       "      <th></th>\n",
       "      <th></th>\n",
       "    </tr>\n",
       "  </thead>\n",
       "  <tbody>\n",
       "    <tr>\n",
       "      <th>Lisosia93</th>\n",
       "      <td>5</td>\n",
       "      <td>$3.79</td>\n",
       "      <td>$18.96</td>\n",
       "    </tr>\n",
       "    <tr>\n",
       "      <th>Idastidru52</th>\n",
       "      <td>4</td>\n",
       "      <td>$3.86</td>\n",
       "      <td>$15.45</td>\n",
       "    </tr>\n",
       "    <tr>\n",
       "      <th>Chamjask73</th>\n",
       "      <td>3</td>\n",
       "      <td>$4.61</td>\n",
       "      <td>$13.83</td>\n",
       "    </tr>\n",
       "    <tr>\n",
       "      <th>Iral74</th>\n",
       "      <td>4</td>\n",
       "      <td>$3.40</td>\n",
       "      <td>$13.62</td>\n",
       "    </tr>\n",
       "    <tr>\n",
       "      <th>Iskadarya95</th>\n",
       "      <td>3</td>\n",
       "      <td>$4.37</td>\n",
       "      <td>$13.10</td>\n",
       "    </tr>\n",
       "  </tbody>\n",
       "</table>\n",
       "</div>"
      ],
      "text/plain": [
       "             Purchase Count Average Purchase Price Total Purchase Value\n",
       "SN                                                                     \n",
       "Lisosia93                 5                  $3.79               $18.96\n",
       "Idastidru52               4                  $3.86               $15.45\n",
       "Chamjask73                3                  $4.61               $13.83\n",
       "Iral74                    4                  $3.40               $13.62\n",
       "Iskadarya95               3                  $4.37               $13.10"
      ]
     },
     "execution_count": 8,
     "metadata": {},
     "output_type": "execute_result"
    }
   ],
   "source": [
    "#using original loaded file, calculate necessary values\n",
    "spending_by_sn = purchase_data.groupby(\"SN\").sum()[\"Price\"]\n",
    "purchases_by_sn = purchase_data.groupby(\"SN\").count()[\"Purchase ID\"]\n",
    "ave_spent_by_sn = purchase_data.groupby(\"SN\").mean()[\"Price\"]\n",
    "\n",
    "#create, display and format summary dataframe\n",
    "top_spenders_df = pd.DataFrame({\"Purchase Count\":purchases_by_sn,\n",
    "                               \"Average Purchase Price\":ave_spent_by_sn,\n",
    "                               \"Total Purchase Value\":spending_by_sn}).sort_values([\"Total Purchase Value\"],ascending=False)\n",
    "top_spenders_df[\"Average Purchase Price\"] = top_spenders_df[\"Average Purchase Price\"].astype(float).map(\"${:,.2f}\".format)\n",
    "top_spenders_df[\"Total Purchase Value\"] = top_spenders_df[\"Total Purchase Value\"].astype(float).map(\"${:,.2f}\".format)\n",
    "top_spenders_df.head(5)"
   ]
  },
  {
   "cell_type": "markdown",
   "metadata": {},
   "source": [
    "## Most Popular Items"
   ]
  },
  {
   "cell_type": "markdown",
   "metadata": {},
   "source": [
    "* Identify the 5 most popular items in the game by purchase count\n",
    "    - create new dataframe from original loaded file to contain a full list of purchases\n",
    "    - group dataframe by item ID and name\n",
    "    - calculate total purchases of each item, average item price and total purchase value\n",
    "    - create summary dataframe and format for readability"
   ]
  },
  {
   "cell_type": "code",
   "execution_count": 9,
   "metadata": {
    "scrolled": true
   },
   "outputs": [
    {
     "data": {
      "text/html": [
       "<style  type=\"text/css\" >\n",
       "</style><table id=\"T_95d8a414_56d9_11eb_b73a_48a472055f68\" ><thead>    <tr>        <th class=\"blank\" ></th>        <th class=\"blank level0\" ></th>        <th class=\"col_heading level0 col0\" >Purchase Count</th>        <th class=\"col_heading level0 col1\" >Item Price</th>        <th class=\"col_heading level0 col2\" >Total Purchase Value</th>    </tr>    <tr>        <th class=\"index_name level0\" >Item ID</th>        <th class=\"index_name level1\" >Item Name</th>        <th class=\"blank\" ></th>        <th class=\"blank\" ></th>        <th class=\"blank\" ></th>    </tr></thead><tbody>\n",
       "                <tr>\n",
       "                        <th id=\"T_95d8a414_56d9_11eb_b73a_48a472055f68level0_row0\" class=\"row_heading level0 row0\" >92</th>\n",
       "                        <th id=\"T_95d8a414_56d9_11eb_b73a_48a472055f68level1_row0\" class=\"row_heading level1 row0\" >Final Critic</th>\n",
       "                        <td id=\"T_95d8a414_56d9_11eb_b73a_48a472055f68row0_col0\" class=\"data row0 col0\" >13</td>\n",
       "                        <td id=\"T_95d8a414_56d9_11eb_b73a_48a472055f68row0_col1\" class=\"data row0 col1\" >$4.61</td>\n",
       "                        <td id=\"T_95d8a414_56d9_11eb_b73a_48a472055f68row0_col2\" class=\"data row0 col2\" >$59.99</td>\n",
       "            </tr>\n",
       "            <tr>\n",
       "                        <th id=\"T_95d8a414_56d9_11eb_b73a_48a472055f68level0_row1\" class=\"row_heading level0 row1\" >178</th>\n",
       "                        <th id=\"T_95d8a414_56d9_11eb_b73a_48a472055f68level1_row1\" class=\"row_heading level1 row1\" >Oathbreaker, Last Hope of the Breaking Storm</th>\n",
       "                        <td id=\"T_95d8a414_56d9_11eb_b73a_48a472055f68row1_col0\" class=\"data row1 col0\" >12</td>\n",
       "                        <td id=\"T_95d8a414_56d9_11eb_b73a_48a472055f68row1_col1\" class=\"data row1 col1\" >$4.23</td>\n",
       "                        <td id=\"T_95d8a414_56d9_11eb_b73a_48a472055f68row1_col2\" class=\"data row1 col2\" >$50.76</td>\n",
       "            </tr>\n",
       "            <tr>\n",
       "                        <th id=\"T_95d8a414_56d9_11eb_b73a_48a472055f68level0_row2\" class=\"row_heading level0 row2\" >145</th>\n",
       "                        <th id=\"T_95d8a414_56d9_11eb_b73a_48a472055f68level1_row2\" class=\"row_heading level1 row2\" >Fiery Glass Crusader</th>\n",
       "                        <td id=\"T_95d8a414_56d9_11eb_b73a_48a472055f68row2_col0\" class=\"data row2 col0\" >9</td>\n",
       "                        <td id=\"T_95d8a414_56d9_11eb_b73a_48a472055f68row2_col1\" class=\"data row2 col1\" >$4.58</td>\n",
       "                        <td id=\"T_95d8a414_56d9_11eb_b73a_48a472055f68row2_col2\" class=\"data row2 col2\" >$41.22</td>\n",
       "            </tr>\n",
       "            <tr>\n",
       "                        <th id=\"T_95d8a414_56d9_11eb_b73a_48a472055f68level0_row3\" class=\"row_heading level0 row3\" >132</th>\n",
       "                        <th id=\"T_95d8a414_56d9_11eb_b73a_48a472055f68level1_row3\" class=\"row_heading level1 row3\" >Persuasion</th>\n",
       "                        <td id=\"T_95d8a414_56d9_11eb_b73a_48a472055f68row3_col0\" class=\"data row3 col0\" >9</td>\n",
       "                        <td id=\"T_95d8a414_56d9_11eb_b73a_48a472055f68row3_col1\" class=\"data row3 col1\" >$3.22</td>\n",
       "                        <td id=\"T_95d8a414_56d9_11eb_b73a_48a472055f68row3_col2\" class=\"data row3 col2\" >$28.99</td>\n",
       "            </tr>\n",
       "            <tr>\n",
       "                        <th id=\"T_95d8a414_56d9_11eb_b73a_48a472055f68level0_row4\" class=\"row_heading level0 row4\" >108</th>\n",
       "                        <th id=\"T_95d8a414_56d9_11eb_b73a_48a472055f68level1_row4\" class=\"row_heading level1 row4\" >Extraction, Quickblade Of Trembling Hands</th>\n",
       "                        <td id=\"T_95d8a414_56d9_11eb_b73a_48a472055f68row4_col0\" class=\"data row4 col0\" >9</td>\n",
       "                        <td id=\"T_95d8a414_56d9_11eb_b73a_48a472055f68row4_col1\" class=\"data row4 col1\" >$3.53</td>\n",
       "                        <td id=\"T_95d8a414_56d9_11eb_b73a_48a472055f68row4_col2\" class=\"data row4 col2\" >$31.77</td>\n",
       "            </tr>\n",
       "    </tbody></table>"
      ],
      "text/plain": [
       "<pandas.io.formats.style.Styler at 0x2c118dddc40>"
      ]
     },
     "execution_count": 9,
     "metadata": {},
     "output_type": "execute_result"
    }
   ],
   "source": [
    "#create new dataframe\n",
    "most_popular_df = purchase_data[[\"Item ID\", \"Item Name\", \"Price\"]]\n",
    "\n",
    "#group dataframe\n",
    "grp_most_popular_df = most_popular_df.groupby([\"Item ID\",\"Item Name\"])\n",
    "\n",
    "#calculate purchase data\n",
    "pop_purchase_count = grp_most_popular_df[\"Item ID\"].count()\n",
    "pop_ave_item_price = grp_most_popular_df[\"Price\"].mean()\n",
    "pop_total_purchase_value = grp_most_popular_df[\"Price\"].sum()\n",
    "\n",
    "#create summary dataframe, sort descending by purchase count\n",
    "comb_most_pop_df = pd.DataFrame({\"Purchase Count\": pop_purchase_count,\n",
    "                                \"Item Price\":pop_ave_item_price,\n",
    "                                \"Total Purchase Value\":pop_total_purchase_value}).sort_values([\"Purchase Count\"],ascending=False)\n",
    "\n",
    "#create formatted dataframe for readability and to retain usable datatypes for next section\n",
    "comb_most_pop_format = comb_most_pop_df.head(5).style.format({\"Item Price\":\"${:,.2f}\",\"Total Purchase Value\":\"${:,.2f}\"})\n",
    "comb_most_pop_format"
   ]
  },
  {
   "cell_type": "markdown",
   "metadata": {},
   "source": [
    "## Most Profitable Items"
   ]
  },
  {
   "cell_type": "markdown",
   "metadata": {},
   "source": [
    "* Identify the 5 most profitable items by total purchase value\n",
    "    - use unformatted dataframe from previous section to resort data based on total purchase value\n",
    "    - create summary dataframe and format for readability"
   ]
  },
  {
   "cell_type": "code",
   "execution_count": 10,
   "metadata": {
    "scrolled": false
   },
   "outputs": [
    {
     "data": {
      "text/html": [
       "<style  type=\"text/css\" >\n",
       "</style><table id=\"T_95dc0a27_56d9_11eb_a869_48a472055f68\" ><thead>    <tr>        <th class=\"blank\" ></th>        <th class=\"blank level0\" ></th>        <th class=\"col_heading level0 col0\" >Purchase Count</th>        <th class=\"col_heading level0 col1\" >Item Price</th>        <th class=\"col_heading level0 col2\" >Total Purchase Value</th>    </tr>    <tr>        <th class=\"index_name level0\" >Item ID</th>        <th class=\"index_name level1\" >Item Name</th>        <th class=\"blank\" ></th>        <th class=\"blank\" ></th>        <th class=\"blank\" ></th>    </tr></thead><tbody>\n",
       "                <tr>\n",
       "                        <th id=\"T_95dc0a27_56d9_11eb_a869_48a472055f68level0_row0\" class=\"row_heading level0 row0\" >92</th>\n",
       "                        <th id=\"T_95dc0a27_56d9_11eb_a869_48a472055f68level1_row0\" class=\"row_heading level1 row0\" >Final Critic</th>\n",
       "                        <td id=\"T_95dc0a27_56d9_11eb_a869_48a472055f68row0_col0\" class=\"data row0 col0\" >13</td>\n",
       "                        <td id=\"T_95dc0a27_56d9_11eb_a869_48a472055f68row0_col1\" class=\"data row0 col1\" >$4.61</td>\n",
       "                        <td id=\"T_95dc0a27_56d9_11eb_a869_48a472055f68row0_col2\" class=\"data row0 col2\" >$59.99</td>\n",
       "            </tr>\n",
       "            <tr>\n",
       "                        <th id=\"T_95dc0a27_56d9_11eb_a869_48a472055f68level0_row1\" class=\"row_heading level0 row1\" >178</th>\n",
       "                        <th id=\"T_95dc0a27_56d9_11eb_a869_48a472055f68level1_row1\" class=\"row_heading level1 row1\" >Oathbreaker, Last Hope of the Breaking Storm</th>\n",
       "                        <td id=\"T_95dc0a27_56d9_11eb_a869_48a472055f68row1_col0\" class=\"data row1 col0\" >12</td>\n",
       "                        <td id=\"T_95dc0a27_56d9_11eb_a869_48a472055f68row1_col1\" class=\"data row1 col1\" >$4.23</td>\n",
       "                        <td id=\"T_95dc0a27_56d9_11eb_a869_48a472055f68row1_col2\" class=\"data row1 col2\" >$50.76</td>\n",
       "            </tr>\n",
       "            <tr>\n",
       "                        <th id=\"T_95dc0a27_56d9_11eb_a869_48a472055f68level0_row2\" class=\"row_heading level0 row2\" >82</th>\n",
       "                        <th id=\"T_95dc0a27_56d9_11eb_a869_48a472055f68level1_row2\" class=\"row_heading level1 row2\" >Nirvana</th>\n",
       "                        <td id=\"T_95dc0a27_56d9_11eb_a869_48a472055f68row2_col0\" class=\"data row2 col0\" >9</td>\n",
       "                        <td id=\"T_95dc0a27_56d9_11eb_a869_48a472055f68row2_col1\" class=\"data row2 col1\" >$4.90</td>\n",
       "                        <td id=\"T_95dc0a27_56d9_11eb_a869_48a472055f68row2_col2\" class=\"data row2 col2\" >$44.10</td>\n",
       "            </tr>\n",
       "            <tr>\n",
       "                        <th id=\"T_95dc0a27_56d9_11eb_a869_48a472055f68level0_row3\" class=\"row_heading level0 row3\" >145</th>\n",
       "                        <th id=\"T_95dc0a27_56d9_11eb_a869_48a472055f68level1_row3\" class=\"row_heading level1 row3\" >Fiery Glass Crusader</th>\n",
       "                        <td id=\"T_95dc0a27_56d9_11eb_a869_48a472055f68row3_col0\" class=\"data row3 col0\" >9</td>\n",
       "                        <td id=\"T_95dc0a27_56d9_11eb_a869_48a472055f68row3_col1\" class=\"data row3 col1\" >$4.58</td>\n",
       "                        <td id=\"T_95dc0a27_56d9_11eb_a869_48a472055f68row3_col2\" class=\"data row3 col2\" >$41.22</td>\n",
       "            </tr>\n",
       "            <tr>\n",
       "                        <th id=\"T_95dc0a27_56d9_11eb_a869_48a472055f68level0_row4\" class=\"row_heading level0 row4\" >103</th>\n",
       "                        <th id=\"T_95dc0a27_56d9_11eb_a869_48a472055f68level1_row4\" class=\"row_heading level1 row4\" >Singed Scalpel</th>\n",
       "                        <td id=\"T_95dc0a27_56d9_11eb_a869_48a472055f68row4_col0\" class=\"data row4 col0\" >8</td>\n",
       "                        <td id=\"T_95dc0a27_56d9_11eb_a869_48a472055f68row4_col1\" class=\"data row4 col1\" >$4.35</td>\n",
       "                        <td id=\"T_95dc0a27_56d9_11eb_a869_48a472055f68row4_col2\" class=\"data row4 col2\" >$34.80</td>\n",
       "            </tr>\n",
       "    </tbody></table>"
      ],
      "text/plain": [
       "<pandas.io.formats.style.Styler at 0x2c119ed4be0>"
      ]
     },
     "execution_count": 10,
     "metadata": {},
     "output_type": "execute_result"
    }
   ],
   "source": [
    "#resort unformatted dataframe from previous section\n",
    "most_profitable_items = comb_most_pop_df.sort_values([\"Total Purchase Value\"], ascending=False)\n",
    "\n",
    "#create and display formatted dataframe\n",
    "most_profitable_items_format = most_profitable_items.head(5).style.format({\"Item Price\":\"${:,.2f}\",\"Total Purchase Value\":\"${:,.2f}\"})\n",
    "most_profitable_items_format"
   ]
  },
  {
   "cell_type": "markdown",
   "metadata": {},
   "source": [
    "----------------------------------------------------------------------------------------------------------------------------"
   ]
  },
  {
   "cell_type": "markdown",
   "metadata": {},
   "source": [
    "### Three Noteable Trends\n",
    "1. 84% of unique players identify as male. This same proportion carries over to the total purchases, in that 84% of all purchases are made by players who identify as male.\n",
    "2. 44% of unique players are between the ages of 20-24 with a similar percentage, 47%, of all purchases being made by the same age group.\n",
    "3. The top two most popular in-game purchasable items, Final Critic and Oathbreaker, Last Hope fo the Breaking Storm are also the top two most profitable items in the same order."
   ]
  }
 ],
 "metadata": {
  "anaconda-cloud": {},
  "kernel_info": {
   "name": "python3"
  },
  "kernelspec": {
   "display_name": "Python 3",
   "language": "python",
   "name": "python3"
  },
  "language_info": {
   "codemirror_mode": {
    "name": "ipython",
    "version": 3
   },
   "file_extension": ".py",
   "mimetype": "text/x-python",
   "name": "python",
   "nbconvert_exporter": "python",
   "pygments_lexer": "ipython3",
   "version": "3.8.3"
  },
  "latex_envs": {
   "LaTeX_envs_menu_present": true,
   "autoclose": false,
   "autocomplete": true,
   "bibliofile": "biblio.bib",
   "cite_by": "apalike",
   "current_citInitial": 1,
   "eqLabelWithNumbers": true,
   "eqNumInitial": 1,
   "hotkeys": {
    "equation": "Ctrl-E",
    "itemize": "Ctrl-I"
   },
   "labels_anchors": false,
   "latex_user_defs": false,
   "report_style_numbering": false,
   "user_envs_cfg": false
  },
  "nteract": {
   "version": "0.2.0"
  }
 },
 "nbformat": 4,
 "nbformat_minor": 2
}
